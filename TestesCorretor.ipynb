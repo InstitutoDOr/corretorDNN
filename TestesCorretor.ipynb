{
 "cells": [
  {
   "cell_type": "code",
   "execution_count": 1,
   "id": "f9dcd171",
   "metadata": {},
   "outputs": [],
   "source": [
    "from corretor import corrige, criaCorretor;\n",
    "corretor = criaCorretor();"
   ]
  },
  {
   "cell_type": "code",
   "execution_count": null,
   "id": "d3a28e8a",
   "metadata": {},
   "outputs": [],
   "source": [
    "texto = 'Pequenos nódulos subpleurais nos lobos inferiores e justacissural à direita, medindo até 0,8 cm.';\n",
    "texto = 'Formação expansiva lobulada, heterogênea, com pequenos focos cálcicos e áreas nodulares de permeio, acometendo o lobo esquerdo da tireoide, medindo 9,0 x 5,0 x 5,0 cm, se insinuando ao intróito torácico, deslocando a traquéia e o esôfago para à direita.';\n",
    "\n",
    "## Errado\n",
    "texto = 'O nódulo mede no exame atual 18 x 10 x 20 mm nos maiores eixos e media no referido exame 16 x 8 x 17 mm.';\n",
    "texto = 'Há imagem de configuração algo nodular medindo cerca de 9 mm em correspondência (imagem 120/249).';\n",
    "texto = 'formação nodular hipodensa no segmnto IVb medindo 1,9 cm, indeterminada.';\n",
    "texto = 'nódulo hipodenso de 2 cm no baço com densidade baixa, podendo representar cisto, apesar de inespecífica sem o uso do contraste venoso.';\n",
    "texto = 'Nódulo com densidade de partes moles e contorno levemente lobulado medindo cerca de 1,4 cm no segmento superior do lobo inferior direito';\n",
    "texto = 'Nódulos hipodensos na tireoide, no lobo direito medindo 2, x 2,4 cm e no lobo esquerdo 1,8 x 1,8 cm.';\n",
    "texto = 'Nódulo com densidade de partes moles medindo 1,0 cm no segmento basal anterior direito';\n",
    "texto = 'Houve redução volumétrica do derrame pleural esquerdo, com expansão parcial do lobo inferior em correspondência, notando-se, no exame atual, opacidade algo nodular, justapleural, medindo cerca de 2,0 cm margeada por diminutos nódulos, no segmento superior do lobo inferior esquerdo';\n",
    "texto = 'Comparativamente com exame realizados em 14/10/2020 e 18/10/2020, observa-se significativa redução das dimensões do nódulo em situação justapleural no segmento basal posterior do lobo inferior esquerdo, que mede atualmente cerca de 10mm (media no exame anterior 18mm).';\n",
    "texto = 'Diminutos e raros nódulos com densidade de partes moles menores que 1,0 cm, esparsos bilateralmente, inespecíficos por suas reduzidas dimensões.';\n",
    "texto = 'Formação nodular heterogênea, com densidade predominante de partes moles e contorno lobulado localizada no segmento lingular superior, medindo aproximadamente 3,8 x 3,0 cm, associada a extensão pleural.';\n",
    "texto = 'O nódulo mede no exame atual 18 x 10 x 20 mm nos maiores eixos e media no referido exame 16 x 8 x 17 mm.';\n",
    "texto = 'Nódulos subpleurais no lobo médio, medindo até 1 cm (linfonodos intrapulmonares?)';\n",
    "texto = 'Nódulo de contornos lobulados no segmento apical do lobo superior direito, medindo 1,3 cm (lesão primária?).';\n",
    "texto = 'Ventrícylo esquerdo direito cavotários sistólica global do VE presrrvada FE do VE por Simpson realização do strsin global longitusinal do VE janela apical subótima para rralização contrstilidade segmentar Átrio direito Diástole ao Doppler reflio mitral fisiológico Válvula aórtica Tricúsoide sem espessamento válvula trucúspide Pericárdio com aspecto ultrassonográfico preservado';\n",
    "texto = 'Vrntrículo esquerdo apresenta contratilidade segmentar normal. Ventrículo direito com diâmrtros normais. Função sistóluca do VD preservada. Átruo esquerdo no limite superior da normalidade, com volume indexado pela superfície corporal estimado ';\n",
    "texto = 'Soemtne a sefunda celula que ten variasão pulmoncr com resídyo líquido sem fibrilação taquicsrdica ventricular.';\n",
    "texto = 'Soemtne asefunda celula que ten variasão pulmoncr com resídyo líquido sem fibrilação taquicsrdica ventriclr.';\n",
    "texto = 'Vrntrículo esquerdo apresenta contratilidade segmentar normal. Ventrículo direito com diâmrtros normais. Função sistóluca do VD preservada. Átruo esquerdo no limite superior da normalidade, com volume indexado pela superfície corporal estimado ';\n",
    "texto = 'Soemtnea sefundacelula queten variasão pulmoncrcom resídyolíquido sem fibrilação taquicsrdica ventricular.';\n",
    "\n",
    "texto = texto.replace('\\xa0', ' ');\n",
    "correcao = corrige(corretor, texto);\n",
    "print('Original : ', texto);\n",
    "print('Correcao : ', correcao);\n",
    "print('IGUAL: ', texto == correcao);"
   ]
  },
  {
   "cell_type": "code",
   "execution_count": null,
   "id": "4620686b",
   "metadata": {},
   "outputs": [],
   "source": []
  }
 ],
 "metadata": {
  "kernelspec": {
   "display_name": "nlp",
   "language": "python",
   "name": "nlp"
  },
  "language_info": {
   "codemirror_mode": {
    "name": "ipython",
    "version": 3
   },
   "file_extension": ".py",
   "mimetype": "text/x-python",
   "name": "python",
   "nbconvert_exporter": "python",
   "pygments_lexer": "ipython3",
   "version": "3.7.11"
  }
 },
 "nbformat": 4,
 "nbformat_minor": 5
}
